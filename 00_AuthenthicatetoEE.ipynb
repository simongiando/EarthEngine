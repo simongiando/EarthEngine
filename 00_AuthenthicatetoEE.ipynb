{
 "cells": [
  {
   "cell_type": "markdown",
   "id": "6fc2c13c",
   "metadata": {},
   "source": [
    "# Authenthicate to Earth Engine\n",
    "** This is for connecting your GEE account to jupyter notebook environment"
   ]
  },
  {
   "cell_type": "code",
   "execution_count": 6,
   "id": "12c2f41e",
   "metadata": {},
   "outputs": [],
   "source": [
    "import ee\n",
    "import geemap "
   ]
  },
  {
   "cell_type": "code",
   "execution_count": 8,
   "id": "86636bac",
   "metadata": {},
   "outputs": [
    {
     "data": {
      "text/html": [
       "<p>To authorize access needed by Earth Engine, open the following\n",
       "        URL in a web browser and follow the instructions:</p>\n",
       "        <p><a href=https://accounts.google.com/o/oauth2/auth?client_id=517222506229-vsmmajv00ul0bs7p89v5m89qs8eb9359.apps.googleusercontent.com&scope=https%3A%2F%2Fwww.googleapis.com%2Fauth%2Fearthengine+https%3A%2F%2Fwww.googleapis.com%2Fauth%2Fdevstorage.full_control&redirect_uri=urn%3Aietf%3Awg%3Aoauth%3A2.0%3Aoob&response_type=code&code_challenge=q2lt9SxnFUvu8yLyCGDgVIqBlZzzboiK8s2SUit-Ato&code_challenge_method=S256>https://accounts.google.com/o/oauth2/auth?client_id=517222506229-vsmmajv00ul0bs7p89v5m89qs8eb9359.apps.googleusercontent.com&scope=https%3A%2F%2Fwww.googleapis.com%2Fauth%2Fearthengine+https%3A%2F%2Fwww.googleapis.com%2Fauth%2Fdevstorage.full_control&redirect_uri=urn%3Aietf%3Awg%3Aoauth%3A2.0%3Aoob&response_type=code&code_challenge=q2lt9SxnFUvu8yLyCGDgVIqBlZzzboiK8s2SUit-Ato&code_challenge_method=S256</a></p>\n",
       "        <p>The authorization workflow will generate a code, which you\n",
       "        should paste in the box below</p>\n",
       "        "
      ],
      "text/plain": [
       "<IPython.core.display.HTML object>"
      ]
     },
     "metadata": {},
     "output_type": "display_data"
    },
    {
     "name": "stdout",
     "output_type": "stream",
     "text": [
      "Enter verification code: 4/1AX4XfWhRPoJ7jJKkWKrCfsiFotdRHVJJv8Ok6D_Rm-sdoFHjnFHKFPNlWu0\n",
      "\n",
      "Successfully saved authorization token.\n"
     ]
    }
   ],
   "source": [
    "# Trigger the authentication flow.\n",
    "ee.Authenticate()\n",
    "\n",
    "# Initialize the library.\n",
    "ee.Initialize()"
   ]
  },
  {
   "cell_type": "markdown",
   "id": "95b89183",
   "metadata": {},
   "source": [
    "# Add Base MAP"
   ]
  },
  {
   "cell_type": "code",
   "execution_count": null,
   "id": "89335267",
   "metadata": {},
   "outputs": [],
   "source": [
    "m.add_basemap('SATELLITE')\n",
    "m"
   ]
  }
 ],
 "metadata": {
  "kernelspec": {
   "display_name": "Python 3 (ipykernel)",
   "language": "python",
   "name": "python3"
  },
  "language_info": {
   "codemirror_mode": {
    "name": "ipython",
    "version": 3
   },
   "file_extension": ".py",
   "mimetype": "text/x-python",
   "name": "python",
   "nbconvert_exporter": "python",
   "pygments_lexer": "ipython3",
   "version": "3.9.6"
  }
 },
 "nbformat": 4,
 "nbformat_minor": 5
}
