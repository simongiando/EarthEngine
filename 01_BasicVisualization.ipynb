{
 "cells": [
  {
   "cell_type": "markdown",
   "id": "1c32de4f",
   "metadata": {},
   "source": [
    "# Basic Visualization"
   ]
  },
  {
   "cell_type": "code",
   "execution_count": 1,
   "id": "7d4e450a",
   "metadata": {},
   "outputs": [],
   "source": [
    "import ee\n",
    "import geemap"
   ]
  },
  {
   "cell_type": "code",
   "execution_count": 11,
   "id": "a3c7083f",
   "metadata": {},
   "outputs": [],
   "source": [
    "Map = geemap.Map(center=[-7.8594,110.2616],zoom=10)"
   ]
  },
  {
   "cell_type": "code",
   "execution_count": 9,
   "id": "7899514e",
   "metadata": {},
   "outputs": [],
   "source": [
    "landcover = ee.Image(\"COPERNICUS/Landcover/100m/Proba-V-C3/Global/2019\").select ('discrete_classification')"
   ]
  },
  {
   "cell_type": "code",
   "execution_count": 13,
   "id": "67c89a06",
   "metadata": {},
   "outputs": [
    {
     "data": {
      "application/vnd.jupyter.widget-view+json": {
       "model_id": "6261dd0520e64f3ab0ebb4b45a8878bf",
       "version_major": 2,
       "version_minor": 0
      },
      "text/plain": [
       "Map(bottom=102043.0, center=[37.3188, -78.702], controls=(WidgetControl(options=['position', 'transparent_bg']…"
      ]
     },
     "metadata": {},
     "output_type": "display_data"
    }
   ],
   "source": [
    "Map.setCenter (-78.7020, 37.3188,10)\n",
    "Map.addLayer (landcover,{},'Global Copernicus Landcover')\n",
    "Map.add_basemap('Esri National Geographic')\n",
    "Map"
   ]
  },
  {
   "cell_type": "markdown",
   "id": "b6750cf1",
   "metadata": {},
   "source": [
    "# Exploreing Base Map"
   ]
  },
  {
   "cell_type": "code",
   "execution_count": null,
   "id": "e5c11f84",
   "metadata": {},
   "outputs": [],
   "source": [
    "m = geemap.Map()\n",
    "m.basemap_demo()\n",
    "m"
   ]
  }
 ],
 "metadata": {
  "kernelspec": {
   "display_name": "Python 3 (ipykernel)",
   "language": "python",
   "name": "python3"
  },
  "language_info": {
   "codemirror_mode": {
    "name": "ipython",
    "version": 3
   },
   "file_extension": ".py",
   "mimetype": "text/x-python",
   "name": "python",
   "nbconvert_exporter": "python",
   "pygments_lexer": "ipython3",
   "version": "3.9.6"
  }
 },
 "nbformat": 4,
 "nbformat_minor": 5
}
