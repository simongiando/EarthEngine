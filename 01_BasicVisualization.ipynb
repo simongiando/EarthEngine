{
 "cells": [
  {
   "cell_type": "markdown",
   "id": "1c32de4f",
   "metadata": {},
   "source": [
    "# Basic Visualization"
   ]
  },
  {
   "cell_type": "code",
   "execution_count": null,
   "id": "7d4e450a",
   "metadata": {},
   "outputs": [],
   "source": [
    "import ee\n",
    "import geemap"
   ]
  },
  {
   "cell_type": "code",
   "execution_count": 22,
   "id": "a3c7083f",
   "metadata": {},
   "outputs": [],
   "source": [
    "Map = geemap.Map()"
   ]
  },
  {
   "cell_type": "code",
   "execution_count": 29,
   "id": "7899514e",
   "metadata": {},
   "outputs": [],
   "source": [
    "landcover = ee.Image(\"COPERNICUS/Landcover/100m/Proba-V-C3/Global/2019\").select ('discrete_classification')"
   ]
  },
  {
   "cell_type": "code",
   "execution_count": 30,
   "id": "67c89a06",
   "metadata": {},
   "outputs": [
    {
     "data": {
      "application/vnd.jupyter.widget-view+json": {
       "model_id": "c45ee0e44d424643b94299dd6c81dc7f",
       "version_major": 2,
       "version_minor": 0
      },
      "text/plain": [
       "Map(bottom=26005.0, center=[37.3188, -78.702], controls=(WidgetControl(options=['position', 'transparent_bg'],…"
      ]
     },
     "metadata": {},
     "output_type": "display_data"
    }
   ],
   "source": [
    "Map.setCenter (-78.7020, 37.3188,10)\n",
    "Map.addLayer (landcover,{},'Global Copernicus Landcover')\n",
    "Map"
   ]
  }
 ],
 "metadata": {
  "kernelspec": {
   "display_name": "Python 3 (ipykernel)",
   "language": "python",
   "name": "python3"
  },
  "language_info": {
   "codemirror_mode": {
    "name": "ipython",
    "version": 3
   },
   "file_extension": ".py",
   "mimetype": "text/x-python",
   "name": "python",
   "nbconvert_exporter": "python",
   "pygments_lexer": "ipython3",
   "version": "3.9.6"
  }
 },
 "nbformat": 4,
 "nbformat_minor": 5
}
