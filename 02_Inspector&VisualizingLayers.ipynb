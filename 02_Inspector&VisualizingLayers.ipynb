{
 "cells": [
  {
   "cell_type": "markdown",
   "id": "6a90d858",
   "metadata": {},
   "source": [
    "# Using Inpector of GEE"
   ]
  },
  {
   "cell_type": "code",
   "execution_count": 3,
   "id": "ffae6066",
   "metadata": {},
   "outputs": [],
   "source": [
    "import ee\n",
    "import geemap"
   ]
  },
  {
   "cell_type": "code",
   "execution_count": 22,
   "id": "58a3b316",
   "metadata": {
    "scrolled": true
   },
   "outputs": [],
   "source": [
    "Map = geemap.Map(center=(-17,126),zoom=3)\n",
    "Map.add_basemap ('Google Satellite')"
   ]
  },
  {
   "cell_type": "markdown",
   "id": "b828c5ba",
   "metadata": {},
   "source": [
    "# Visualizing several layers"
   ]
  },
  {
   "cell_type": "code",
   "execution_count": 21,
   "id": "807ac999",
   "metadata": {},
   "outputs": [
    {
     "data": {
      "application/vnd.jupyter.widget-view+json": {
       "model_id": "9ac7d5edbe704385802d68046aaecbda",
       "version_major": 2,
       "version_minor": 0
      },
      "text/plain": [
       "Map(bottom=4560.0, center=[-7.169706777182563, 116.4140255005023], controls=(WidgetControl(options=['position'…"
      ]
     },
     "metadata": {},
     "output_type": "display_data"
    }
   ],
   "source": [
    "# Add Earth Engine dataset\n",
    "dem = ee.Image('USGS/SRTMGL1_003')\n",
    "landcover = ee.Image(\"ESA/GLOBCOVER_L4_200901_200912_V2_3\").select('landcover')\n",
    "landsat7 = ee.Image('LE7_TOA_5YEAR/1999_2003').select(['B1', 'B2', 'B3', 'B4', 'B5', 'B7'])\n",
    "idn_boundary = ee.FeatureCollection(\"users/simongiandos/IDN_Boundaries/IDN_ProvinceBoundary_BPS_2014\")\n",
    "\n",
    "# Set image visualization parameters.\n",
    "vis_params = {\n",
    "  'min': 0,\n",
    "  'max': 4000,\n",
    "  'palette': ['006633', 'E5FFCC', '662A00', 'D8D8D8', 'F5F5F5']}\n",
    "\n",
    "# Add Earth Eninge layers to Map\n",
    "Map.addLayer(dem, vis_params, 'SRTM DEM', True, 0.5)\n",
    "Map.addLayer(landcover, {}, 'Land cover')\n",
    "Map.addLayer(landsat7, {'bands': ['B4', 'B3', 'B2'], 'min': 20, 'max': 200, 'gamma': 2.0}, 'Landsat 7')\n",
    "Map.addLayer(idn_boundary,{} , \"Indonesia Province Boundary\",opacity=0.5)\n",
    "\n",
    "Map"
   ]
  },
  {
   "cell_type": "code",
   "execution_count": null,
   "id": "4b49a844",
   "metadata": {},
   "outputs": [],
   "source": []
  }
 ],
 "metadata": {
  "kernelspec": {
   "display_name": "Python 3 (ipykernel)",
   "language": "python",
   "name": "python3"
  },
  "language_info": {
   "codemirror_mode": {
    "name": "ipython",
    "version": 3
   },
   "file_extension": ".py",
   "mimetype": "text/x-python",
   "name": "python",
   "nbconvert_exporter": "python",
   "pygments_lexer": "ipython3",
   "version": "3.9.6"
  }
 },
 "nbformat": 4,
 "nbformat_minor": 5
}
